{
 "cells": [
  {
   "cell_type": "code",
   "execution_count": 1,
   "metadata": {},
   "outputs": [],
   "source": [
    "import pandas as pd\n",
    "from sklearn.model_selection import train_test_split\n",
    "from sklearn.linear_model import LinearRegression\n",
    "from sklearn.metrics import mean_squared_error\n",
    "from sklearn import metrics\n",
    "import tkinter\n",
    "import matplotlib.pyplot as plt\n",
    "import numpy as np\n",
    "import seaborn as sns"
   ]
  },
  {
   "cell_type": "code",
   "execution_count": 2,
   "metadata": {},
   "outputs": [
    {
     "data": {
      "text/html": [
       "<div>\n",
       "<style scoped>\n",
       "    .dataframe tbody tr th:only-of-type {\n",
       "        vertical-align: middle;\n",
       "    }\n",
       "\n",
       "    .dataframe tbody tr th {\n",
       "        vertical-align: top;\n",
       "    }\n",
       "\n",
       "    .dataframe thead th {\n",
       "        text-align: right;\n",
       "    }\n",
       "</style>\n",
       "<table border=\"1\" class=\"dataframe\">\n",
       "  <thead>\n",
       "    <tr style=\"text-align: right;\">\n",
       "      <th></th>\n",
       "      <th>fixed acidity</th>\n",
       "      <th>volatile acidity</th>\n",
       "      <th>citric acid</th>\n",
       "      <th>residual sugar</th>\n",
       "      <th>chlorides</th>\n",
       "      <th>free sulfur dioxide</th>\n",
       "      <th>total sulfur dioxide</th>\n",
       "      <th>density</th>\n",
       "      <th>pH</th>\n",
       "      <th>sulphates</th>\n",
       "      <th>alcohol</th>\n",
       "      <th>quality</th>\n",
       "    </tr>\n",
       "  </thead>\n",
       "  <tbody>\n",
       "    <tr>\n",
       "      <th>0</th>\n",
       "      <td>7.4</td>\n",
       "      <td>0.70</td>\n",
       "      <td>0.00</td>\n",
       "      <td>1.9</td>\n",
       "      <td>0.076</td>\n",
       "      <td>11.0</td>\n",
       "      <td>34.0</td>\n",
       "      <td>0.9978</td>\n",
       "      <td>3.51</td>\n",
       "      <td>0.56</td>\n",
       "      <td>9.4</td>\n",
       "      <td>5</td>\n",
       "    </tr>\n",
       "    <tr>\n",
       "      <th>1</th>\n",
       "      <td>7.8</td>\n",
       "      <td>0.88</td>\n",
       "      <td>0.00</td>\n",
       "      <td>2.6</td>\n",
       "      <td>0.098</td>\n",
       "      <td>25.0</td>\n",
       "      <td>67.0</td>\n",
       "      <td>0.9968</td>\n",
       "      <td>3.20</td>\n",
       "      <td>0.68</td>\n",
       "      <td>9.8</td>\n",
       "      <td>5</td>\n",
       "    </tr>\n",
       "    <tr>\n",
       "      <th>2</th>\n",
       "      <td>7.8</td>\n",
       "      <td>0.76</td>\n",
       "      <td>0.04</td>\n",
       "      <td>2.3</td>\n",
       "      <td>0.092</td>\n",
       "      <td>15.0</td>\n",
       "      <td>54.0</td>\n",
       "      <td>0.9970</td>\n",
       "      <td>3.26</td>\n",
       "      <td>0.65</td>\n",
       "      <td>9.8</td>\n",
       "      <td>5</td>\n",
       "    </tr>\n",
       "    <tr>\n",
       "      <th>3</th>\n",
       "      <td>11.2</td>\n",
       "      <td>0.28</td>\n",
       "      <td>0.56</td>\n",
       "      <td>1.9</td>\n",
       "      <td>0.075</td>\n",
       "      <td>17.0</td>\n",
       "      <td>60.0</td>\n",
       "      <td>0.9980</td>\n",
       "      <td>3.16</td>\n",
       "      <td>0.58</td>\n",
       "      <td>9.8</td>\n",
       "      <td>6</td>\n",
       "    </tr>\n",
       "    <tr>\n",
       "      <th>4</th>\n",
       "      <td>7.4</td>\n",
       "      <td>0.70</td>\n",
       "      <td>0.00</td>\n",
       "      <td>1.9</td>\n",
       "      <td>0.076</td>\n",
       "      <td>11.0</td>\n",
       "      <td>34.0</td>\n",
       "      <td>0.9978</td>\n",
       "      <td>3.51</td>\n",
       "      <td>0.56</td>\n",
       "      <td>9.4</td>\n",
       "      <td>5</td>\n",
       "    </tr>\n",
       "  </tbody>\n",
       "</table>\n",
       "</div>"
      ],
      "text/plain": [
       "   fixed acidity  volatile acidity  citric acid  residual sugar  chlorides  \\\n",
       "0            7.4              0.70         0.00             1.9      0.076   \n",
       "1            7.8              0.88         0.00             2.6      0.098   \n",
       "2            7.8              0.76         0.04             2.3      0.092   \n",
       "3           11.2              0.28         0.56             1.9      0.075   \n",
       "4            7.4              0.70         0.00             1.9      0.076   \n",
       "\n",
       "   free sulfur dioxide  total sulfur dioxide  density    pH  sulphates  \\\n",
       "0                 11.0                  34.0   0.9978  3.51       0.56   \n",
       "1                 25.0                  67.0   0.9968  3.20       0.68   \n",
       "2                 15.0                  54.0   0.9970  3.26       0.65   \n",
       "3                 17.0                  60.0   0.9980  3.16       0.58   \n",
       "4                 11.0                  34.0   0.9978  3.51       0.56   \n",
       "\n",
       "   alcohol  quality  \n",
       "0      9.4        5  \n",
       "1      9.8        5  \n",
       "2      9.8        5  \n",
       "3      9.8        6  \n",
       "4      9.4        5  "
      ]
     },
     "execution_count": 2,
     "metadata": {},
     "output_type": "execute_result"
    }
   ],
   "source": [
    "df = pd.read_csv('winequality-red.csv', sep=\";\")\n",
    "df.head()"
   ]
  },
  {
   "cell_type": "code",
   "execution_count": 3,
   "metadata": {},
   "outputs": [
    {
     "name": "stdout",
     "output_type": "stream",
     "text": [
      "fixed acidity           0.124052\n",
      "volatile acidity       -0.390558\n",
      "citric acid             0.226373\n",
      "residual sugar          0.013732\n",
      "chlorides              -0.128907\n",
      "free sulfur dioxide    -0.050656\n",
      "total sulfur dioxide   -0.185100\n",
      "density                -0.174919\n",
      "pH                     -0.057731\n",
      "sulphates               0.251397\n",
      "alcohol                 0.476166\n",
      "Name: quality, dtype: float64\n"
     ]
    }
   ],
   "source": [
    "# there are no categorical variables. each feature is a number. Regression problem. \n",
    "# Given the set of values for features, we have to predict the quality of wine. finding correlation of each feature with our target variable - quality\n",
    "correlations = df.corr()['quality'].drop('quality')\n",
    "print(correlations)"
   ]
  },
  {
   "cell_type": "code",
   "execution_count": 4,
   "metadata": {},
   "outputs": [
    {
     "data": {
      "image/png": "[encoded data removed]",
      "text/plain": [
       "<Figure size 640x480 with 2 Axes>"
      ]
     },
     "metadata": {},
     "output_type": "display_data"
    }
   ],
   "source": [
    "sns.heatmap(df.corr())\n",
    "plt.show()"
   ]
  },
  {
   "cell_type": "code",
   "execution_count": 5,
   "metadata": {},
   "outputs": [],
   "source": [
    "def get_features(correlation_threshold):\n",
    "    abs_corrs = correlations.abs()\n",
    "    high_correlations = abs_corrs\n",
    "    high_correlations = abs_corrs[abs_corrs > correlation_threshold].index.values.tolist()\n",
    "    return high_correlations"
   ]
  },
  {
   "cell_type": "code",
   "execution_count": 6,
   "metadata": {},
   "outputs": [
    {
     "name": "stdout",
     "output_type": "stream",
     "text": [
      "['fixed acidity', 'volatile acidity', 'citric acid', 'chlorides', 'free sulfur dioxide', 'total sulfur dioxide', 'density', 'pH', 'sulphates', 'alcohol']\n"
     ]
    }
   ],
   "source": [
    "# taking features with correlation more than 0.05 as input x and quality as target variable y \n",
    "features = get_features(0.05) \n",
    "print(features) \n",
    "x = df[features] \n",
    "y = df['quality']"
   ]
  },
  {
   "cell_type": "code",
   "execution_count": 7,
   "metadata": {},
   "outputs": [],
   "source": [
    "x_train,x_test,y_train,y_test=train_test_split(x,y,test_size=0.2, random_state=42)"
   ]
  },
  {
   "cell_type": "code",
   "execution_count": 8,
   "metadata": {},
   "outputs": [
    {
     "name": "stdout",
     "output_type": "stream",
     "text": [
      "[ 1.80867647e-02 -1.00187836e+00 -1.36155647e-01 -1.80698668e+00\n",
      "  5.77269406e-03 -3.64711098e-03 -4.58248891e+00 -4.21463758e-01\n",
      "  8.31155780e-01  2.87698526e-01]\n"
     ]
    }
   ],
   "source": [
    "# fitting linear regression to training data\n",
    "regressor = LinearRegression()\n",
    "regressor.fit(x_train,y_train)\n",
    "  \n",
    "# this gives the coefficients of the 10 features selected above.  \n",
    "print(regressor.coef_)"
   ]
  },
  {
   "cell_type": "code",
   "execution_count": 9,
   "metadata": {},
   "outputs": [
    {
     "name": "stdout",
     "output_type": "stream",
     "text": [
      "[5.70602706 6.05826889 5.68847627 ... 4.96807424 6.6125683  6.70073458]\n",
      "[5.34806679 5.05517166 5.66708964 5.47234795 5.72724691 5.28403318\n",
      " 5.03791776 5.1249201  5.7464113  5.68875405 6.1473241  5.23079222\n",
      " 5.54879107 5.26184998 5.44792951 6.46589846 5.15102912 5.59145104\n",
      " 6.55637705 5.32101515 5.38038714 5.19595109 5.94303746 6.35879384\n",
      " 5.35177061 5.41966382 6.35921825 5.34821308 5.15311857 6.15638261\n",
      " 5.25353216 5.50782551 5.76135231 5.39324373 5.45778311 5.02455666\n",
      " 6.16081394 5.68412569 5.65121061 6.16728694 5.53147931 5.24262707\n",
      " 6.17895973 5.16506044 5.87547952 5.81036214 6.41918012 5.60584147\n",
      " 5.15466816 5.55353124 5.15006163 5.10868088 5.58261278 6.33518958\n",
      " 4.95206806 4.98797839 6.00934825 5.39265615 5.83635018 5.25203043\n",
      " 5.61012632 5.96277273 5.27889339 5.29844861 6.49130825 5.42179306\n",
      " 6.33931526 5.24973662 6.42060641 5.31516411 6.41686942 4.73860123\n",
      " 5.79669528 5.83059838 6.17512882 5.29353177 6.76113795 5.90707912\n",
      " 6.0788683  6.43100596 5.29354692 6.45439032 5.45247947 5.6978048\n",
      " 5.71551621 6.4097332  5.31508747 5.83831099 6.31579507 5.2062741\n",
      " 6.11019683 5.67175673 5.78377443 5.93425187 5.19194882 5.75241435\n",
      " 5.1771747  5.69593927 4.99053012 5.52330812 5.06739189 5.14207404\n",
      " 5.85262425 5.7063665  5.48206811 6.12628908 5.73535631 5.44749065\n",
      " 6.05902969 5.24783458 6.68437171 5.27123496 6.15371427 4.7502311\n",
      " 5.82125617 5.98450736 6.16493765 5.51681848 5.01951996 5.84259169\n",
      " 6.21343648 5.26384523 5.75391922 5.40124789 5.39039654 5.26127595\n",
      " 6.20762086 5.69520758 5.59128433 5.82182317 5.79669528 5.14841308\n",
      " 5.01125814 6.34964945 5.55353124 5.07858421 5.05769695 5.35792219\n",
      " 5.12521389 5.67178696 6.00201884 6.04347261 6.24794856 5.48961233\n",
      " 5.86275683 5.2625447  6.05984424 5.39308275 6.00827214 5.06571293\n",
      " 5.70518238 6.13857906 5.11914477 5.68149041 5.79669528 6.09534351\n",
      " 5.22349455 5.90221995 5.49249919 5.9370854  6.30946954 5.71740637\n",
      " 6.13921073 4.99005119 5.39035787 5.63573333 4.69926189 5.23091872\n",
      " 5.04814916 4.99643854 5.21100896 5.10960535 6.29424518 5.49308065\n",
      " 5.70275917 5.87027263 6.10580707 5.383161   5.39827052 5.10792369\n",
      " 4.74577142 6.33891385 5.57837088 6.50669843 5.17893448 6.38776001\n",
      " 5.39192143 5.75119715 6.71266752 5.49308065 5.42384322 6.07989912\n",
      " 5.60665973 6.52933747 5.79497432 5.3281555  4.92557939 5.41243025\n",
      " 5.50004612 6.12628908 5.37314435 5.78508769 5.48866064 5.02366514\n",
      " 6.65994278 5.6215732  4.83019985 5.72175786 5.67652182 6.10177386\n",
      " 5.99518811 5.16703557 5.78315461 6.60742085 6.36937372 5.78143159\n",
      " 5.42420786 5.19485979 5.80803758 5.30960764 5.09201915 6.24645907\n",
      " 6.33593564 5.99987978 5.16769256 4.81508141 5.22235802 6.45161412\n",
      " 5.49425433 5.31515068 5.55883501 5.05036987 6.33368657 5.98232251\n",
      " 6.0484702  6.12628908 5.3794597  5.71551621 4.79745882 5.03559917\n",
      " 5.67926495 5.0121043  5.83421588 6.1482416  5.25441464 5.55797034\n",
      " 5.99868636 5.36434264 6.68450798 5.12148548 5.79222741 5.62644067\n",
      " 5.31881821 5.51708989 5.19829339 5.13653087 5.49044006 5.85195473\n",
      " 5.72776132 6.80206601 6.2082779  6.03330841 5.383161   6.50572497\n",
      " 5.85029    6.30433832 5.05569699 4.93517979 5.95521027 6.33251722\n",
      " 5.18911509 5.84624524 5.4049115  5.17526304 5.31403768 5.50021767\n",
      " 5.66979648 6.22042795 6.22279359 5.26424166 6.48722417 4.94942103\n",
      " 5.3751636  5.49817141 5.36158903 5.83481905 4.95236376 6.04347261\n",
      " 5.04395034 5.75280757 5.63005975 6.57155635 5.67141071 5.58579693\n",
      " 4.91682261 6.38177378 5.11065036 6.30599312 6.20874875 6.50465101\n",
      " 5.52889596 5.1705264  6.23096562 5.33278216 5.25558562 5.32469982\n",
      " 5.90202936 5.9302931  6.26195945 6.57919296 5.55513236 5.57070745\n",
      " 5.51794235 5.61302116 5.39324373 5.68719509 5.22609609 5.28051146\n",
      " 6.27622713 5.20131528]\n"
     ]
    }
   ],
   "source": [
    "train_pred = regressor.predict(x_train)\n",
    "print(train_pred)\n",
    "test_pred = regressor.predict(x_test) \n",
    "print(test_pred)"
   ]
  },
  {
   "cell_type": "code",
   "execution_count": 10,
   "metadata": {},
   "outputs": [
    {
     "name": "stdout",
     "output_type": "stream",
     "text": [
      "0.6513389413206592\n",
      "0.6251864979819243\n",
      "[5. 5. 6. 5. 6. 5. 5. 5. 6. 6. 6. 5. 6. 5. 5. 6. 5. 6. 7. 5. 5. 5. 6. 6.\n",
      " 5. 5. 6. 5. 5. 6. 5. 6. 6. 5. 5. 5. 6. 6. 6. 6. 6. 5. 6. 5. 6. 6. 6. 6.\n",
      " 5. 6. 5. 5. 6. 6. 5. 5. 6. 5. 6. 5. 6. 6. 5. 5. 6. 5. 6. 5. 6. 5. 6. 5.\n",
      " 6. 6. 6. 5. 7. 6. 6. 6. 5. 6. 5. 6. 6. 6. 5. 6. 6. 5. 6. 6. 6. 6. 5. 6.\n",
      " 5. 6. 5. 6. 5. 5. 6. 6. 5. 6. 6. 5. 6. 5. 7. 5. 6. 5. 6. 6. 6. 6. 5. 6.\n",
      " 6. 5. 6. 5. 5. 5. 6. 6. 6. 6. 6. 5. 5. 6. 6. 5. 5. 5. 5. 6. 6. 6. 6. 5.\n",
      " 6. 5. 6. 5. 6. 5. 6. 6. 5. 6. 6. 6. 5. 6. 5. 6. 6. 6. 6. 5. 5. 6. 5. 5.\n",
      " 5. 5. 5. 5. 6. 5. 6. 6. 6. 5. 5. 5. 5. 6. 6. 7. 5. 6. 5. 6. 7. 5. 5. 6.\n",
      " 6. 7. 6. 5. 5. 5. 6. 6. 5. 6. 5. 5. 7. 6. 5. 6. 6. 6. 6. 5. 6. 7. 6. 6.\n",
      " 5. 5. 6. 5. 5. 6. 6. 6. 5. 5. 5. 6. 5. 5. 6. 5. 6. 6. 6. 6. 5. 6. 5. 5.\n",
      " 6. 5. 6. 6. 5. 6. 6. 5. 7. 5. 6. 6. 5. 6. 5. 5. 5. 6. 6. 7. 6. 6. 5. 7.\n",
      " 6. 6. 5. 5. 6. 6. 5. 6. 5. 5. 5. 6. 6. 6. 6. 5. 6. 5. 5. 5. 5. 6. 5. 6.\n",
      " 5. 6. 6. 7. 6. 6. 5. 6. 5. 6. 6. 7. 6. 5. 6. 5. 5. 5. 6. 6. 6. 7. 6. 6.\n",
      " 6. 6. 5. 6. 5. 5. 6. 5.]\n",
      "Mean Absolute Error: 0.5040876719443235\n",
      "Mean Squared Error: 0.39085815725890266\n",
      "Root Mean Squared Error: 0.6251864979819243\n",
      "                      Coeffecient\n",
      "fixed acidity            0.018087\n",
      "volatile acidity        -1.001878\n",
      "citric acid             -0.136156\n",
      "chlorides               -1.806987\n",
      "free sulfur dioxide      0.005773\n",
      "total sulfur dioxide    -0.003647\n",
      "density                 -4.582489\n",
      "pH                      -0.421464\n",
      "sulphates                0.831156\n",
      "alcohol                  0.287699\n"
     ]
    }
   ],
   "source": [
    "# calculating rmse\n",
    "train_rmse = mean_squared_error(train_pred, y_train) ** 0.5\n",
    "print(train_rmse)\n",
    "test_rmse = mean_squared_error(test_pred, y_test) ** 0.5\n",
    "print(test_rmse)\n",
    "# rounding off the predicted values for test set\n",
    "predicted_data = np.round_(test_pred)\n",
    "print(predicted_data)\n",
    "print('Mean Absolute Error:', metrics.mean_absolute_error(y_test, test_pred))\n",
    "print('Mean Squared Error:', metrics.mean_squared_error(y_test, test_pred))\n",
    "print('Root Mean Squared Error:', np.sqrt(metrics.mean_squared_error(y_test, test_pred)))\n",
    "# displaying coefficients of each feature\n",
    "coeffecients = pd.DataFrame(regressor.coef_,features)\n",
    "coeffecients.columns = ['Coeffecient']\n",
    "print(coeffecients)"
   ]
  }
 ],
 "metadata": {
  "kernelspec": {
   "display_name": "Python 3",
   "language": "python",
   "name": "python3"
  },
  "language_info": {
   "codemirror_mode": {
    "name": "ipython",
    "version": 3
   },
   "file_extension": ".py",
   "mimetype": "text/x-python",
   "name": "python",
   "nbconvert_exporter": "python",
   "pygments_lexer": "ipython3",
   "version": "3.10.4"
  },
  "orig_nbformat": 4
 },
 "nbformat": 4,
 "nbformat_minor": 2
}
